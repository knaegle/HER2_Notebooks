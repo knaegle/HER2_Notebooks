{
 "cells": [
  {
   "cell_type": "code",
   "execution_count": 1,
   "metadata": {
    "collapsed": false
   },
   "outputs": [
    {
     "name": "stderr",
     "output_type": "stream",
     "text": [
      "/Users/knaegle/anaconda/envs/py35/lib/python3.5/site-packages/numpy/lib/function_base.py:3834: RuntimeWarning: Invalid value encountered in percentile\n",
      "  RuntimeWarning)\n"
     ]
    }
   ],
   "source": [
    "############################################################################\n",
    "# HER2 Overexpression, clustering of P and 24H data by ensemble clustering  #\n",
    "# This produces the ensemble clusters and the mixture model solution        #\n",
    "############################################################################\n",
    "%matplotlib inline \n",
    "import numpy as np \n",
    "import pandas as pd \n",
    "import sklearn.cluster  as skc\n",
    "import matplotlib.pyplot as plt\n",
    "from sklearn import datasets\n",
    "import sklearn as sk\n",
    "import scipy.cluster.hierarchy as sch\n",
    "#from cooccurrence import coMat\n",
    "import openensembles as oe\n",
    "\n",
    "\n",
    "fileName = 'data/experiment_1599_EGF_24H.csv'\n",
    "df = pd.DataFrame.from_csv(fileName)\n",
    "\n",
    "df.describe()\n",
    "\n",
    "#Create two dataframes, 24H_EGF and P_EGF\n",
    "filter_col_24H = [col for col in list(df) if col.startswith('24H_EGF:data')]\n",
    "HER2_EGF_df = df[filter_col_24H]\n",
    "\n",
    "filter_col_P = [col for col in list(df) if col.startswith('P_EGF:data')]\n",
    "P_EGF_df = df[filter_col_P]\n",
    "\n",
    "time = [0, 5, 10, 30]\n",
    "\n",
    "dataObj_P = oe.data(P_EGF_df, time)\n",
    "dataObj_24H = oe.data(HER2_EGF_df, time)\n",
    "\n"
   ]
  },
  {
   "cell_type": "code",
   "execution_count": 2,
   "metadata": {
    "collapsed": false
   },
   "outputs": [
    {
     "data": {
      "text/plain": [
       "8"
      ]
     },
     "execution_count": 2,
     "metadata": {},
     "output_type": "execute_result"
    }
   ],
   "source": [
    "K_ROT = round(len(dataObj_P.D['parent']) ** 0.5)\n",
    "K_ROT"
   ]
  },
  {
   "cell_type": "markdown",
   "metadata": {},
   "source": [
    "## Transformations"
   ]
  },
  {
   "cell_type": "code",
   "execution_count": 4,
   "metadata": {
    "collapsed": false
   },
   "outputs": [],
   "source": [
    "dataObj_P.transform('parent', 'zscore', 'zscore')\n",
    "dataObj_P.transform('parent', 'log', 'log', base=2,Keep_NaN=0, Keep_Inf=0)\n",
    "dataObj_P.transform('parent', 'PCA', 'PCA')\n",
    "dataObj_P.transform('parent', 'minmax', 'minmax', minValue=0, maxValue=1)\n",
    "\n",
    "dataObj_24H.transform('parent', 'zscore', 'zscore')\n",
    "dataObj_24H.transform('parent', 'log', 'log', base=2, Keep_NaN=0, Keep_Inf=0)\n",
    "dataObj_24H.transform('parent', 'PCA', 'PCA')\n",
    "dataObj_24H.transform('parent', 'minmax', 'minmax', minValue=0, maxValue=1)"
   ]
  },
  {
   "cell_type": "code",
   "execution_count": 5,
   "metadata": {
    "collapsed": false
   },
   "outputs": [
    {
     "data": {
      "text/plain": [
       "['PCA', 'minmax', 'zscore', 'parent', 'log']"
      ]
     },
     "execution_count": 5,
     "metadata": {},
     "output_type": "execute_result"
    }
   ],
   "source": [
    "list(dataObj_P.D.keys())"
   ]
  },
  {
   "cell_type": "markdown",
   "metadata": {},
   "source": [
    "## Cluster"
   ]
  },
  {
   "cell_type": "code",
   "execution_count": 6,
   "metadata": {
    "collapsed": false
   },
   "outputs": [],
   "source": [
    "def cluster_ens(c, K_vals):\n",
    "    \n",
    "    # Create an ensemble of those that can take distance, for all distances\n",
    "    dDict = sk.metrics.pairwise.distance_metrics()\n",
    "    dDict\n",
    "    #remove precomputed from dictionary of distances\n",
    "    if 'precomputed' in dDict:\n",
    "        del dDict['precomputed']\n",
    "    \n",
    "    algorithms_wDist = ['agglomerative', 'DBSCAN', 'AffinityPropagation']\n",
    "    algorithms_noDist = ['kmeans', 'spectral']\n",
    "    \n",
    "    \n",
    "    for transform in c.dataObj.D: #For all transfomrs\n",
    "        \n",
    "        for algorithm in algorithms_wDist:\n",
    "            for distance in dDict:\n",
    "                if algorithm=='DBSCAN' or algorithm=='AffinityPropagation': #algorithms that don't accept K\n",
    "                    name = \"%s_%s_%s\"%(algorithm, transform, distance)\n",
    "                    c.cluster(transform, algorithm, name)\n",
    "                else:\n",
    "                    for k in K_vals:\n",
    "                        name = \"%s_%s_%s_%d\"%(algorithm, transform, distance, k)\n",
    "                        c.cluster(transform, algorithm, name, K=k)\n",
    "        for algorithm in algorithms_noDist:\n",
    "            for k in K_vals:\n",
    "                name = \"%s_%s_%s_%d\"%(algorithm, transform, distance, k)\n",
    "                c.cluster(transform, algorithm, name, K=k)\n",
    "\n",
    "\n",
    "    \n",
    "    return c"
   ]
  },
  {
   "cell_type": "code",
   "execution_count": 7,
   "metadata": {
    "collapsed": false
   },
   "outputs": [],
   "source": [
    "\n",
    "\n",
    "K_list = range(6,10)\n",
    "c_P = oe.cluster(dataObj_P)\n",
    "c_P = cluster_ens(c_P, K_list)\n",
    "\n",
    "c_24H = oe.cluster(dataObj_24H)\n",
    "c_24H = cluster_ens(c_24H, K_list)\n"
   ]
  },
  {
   "cell_type": "code",
   "execution_count": 8,
   "metadata": {
    "collapsed": false
   },
   "outputs": [
    {
     "data": {
      "text/plain": [
       "220"
      ]
     },
     "execution_count": 8,
     "metadata": {},
     "output_type": "execute_result"
    }
   ],
   "source": [
    "len(c_P.labels)"
   ]
  },
  {
   "cell_type": "markdown",
   "metadata": {},
   "source": [
    "## Finishing"
   ]
  },
  {
   "cell_type": "code",
   "execution_count": 16,
   "metadata": {
    "collapsed": false
   },
   "outputs": [],
   "source": [
    "threshold=0.45 #determined by coMat.plot() -- visualize the cut that will be made\n",
    "c_link_P = c_P.finish_co_occ_linkage(threshold)\n",
    "c_link_24H = c_24H.finish_co_occ_linkage(threshold)"
   ]
  },
  {
   "cell_type": "code",
   "execution_count": 17,
   "metadata": {
    "collapsed": true
   },
   "outputs": [],
   "source": [
    "threshold = 0.7\n",
    "clique_size = 4\n",
    "c_g_P = c_P.finish_graph_closure(threshold, clique_size=clique_size)\n",
    "c_g_24H = c_24H.finish_graph_closure(threshold, clique_size=clique_size)"
   ]
  },
  {
   "cell_type": "code",
   "execution_count": 18,
   "metadata": {
    "collapsed": false
   },
   "outputs": [],
   "source": [
    "import pickle\n",
    "pickle.dump([dataObj_P, dataObj_24H, c_P, c_24H, c_link_P, c_link_24H, c_g_P, c_g_24H], open(\"P_24H_ensembleClusterworkspace.p\", \"wb\"))\n"
   ]
  },
  {
   "cell_type": "code",
   "execution_count": null,
   "metadata": {
    "collapsed": true
   },
   "outputs": [],
   "source": []
  }
 ],
 "metadata": {
  "kernelspec": {
   "display_name": "Python [py35]",
   "language": "python",
   "name": "Python [py35]"
  },
  "language_info": {
   "codemirror_mode": {
    "name": "ipython",
    "version": 3
   },
   "file_extension": ".py",
   "mimetype": "text/x-python",
   "name": "python",
   "nbconvert_exporter": "python",
   "pygments_lexer": "ipython3",
   "version": "3.5.2"
  }
 },
 "nbformat": 4,
 "nbformat_minor": 0
}
